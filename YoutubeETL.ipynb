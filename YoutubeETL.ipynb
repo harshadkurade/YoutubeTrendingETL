{
  "cells": [
    {
      "cell_type": "code",
      "execution_count": null,
      "metadata": {
        "colab": {
          "base_uri": "https://localhost:8080/"
        },
        "id": "4Xar-wBenH7G",
        "outputId": "bc5a16b6-4f46-4b67-bc93-376177eb4743"
      },
      "outputs": [],
      "source": [
        "!pip install --upgrade google-api-python-client"
      ]
    },
    {
      "cell_type": "code",
      "execution_count": null,
      "metadata": {
        "id": "XE1cAfZ0nXEW"
      },
      "outputs": [],
      "source": [
        "import pandas as pd\n",
        "from googleapiclient.discovery import build\n",
        "import json\n",
        "from google.colab import files"
      ]
    },
    {
      "cell_type": "code",
      "execution_count": null,
      "metadata": {
        "id": "AGdLMwPUng0I"
      },
      "outputs": [],
      "source": [
        "YOUTUBE_API_KEY = \"your api key here\""
      ]
    },
    {
      "cell_type": "code",
      "execution_count": null,
      "metadata": {
        "id": "6w2rmEu0pHQ2"
      },
      "outputs": [],
      "source": [
        "# EXtract function\n",
        "def get_trending_videos(region_code='IN', max_results=50):\n",
        "    youtube = build('youtube', 'v3', developerKey=YOUTUBE_API_KEY)\n",
        "\n",
        "    request = youtube.videos().list(\n",
        "        part='snippet,statistics',\n",
        "        chart='mostPopular',\n",
        "        regionCode=region_code,\n",
        "        maxResults=max_results\n",
        "    )\n",
        "\n",
        "    response = request.execute()\n",
        "\n",
        "    return response['items']\n"
      ]
    },
    {
      "cell_type": "code",
      "execution_count": null,
      "metadata": {
        "colab": {
          "base_uri": "https://localhost:8080/"
        },
        "id": "GCLDYoZXpTl_",
        "outputId": "28d1771a-808f-44df-c1eb-92e1635f6e3f"
      },
      "outputs": [],
      "source": [
        "# Pull trending videos for the India\n",
        "trending_data = get_trending_videos(region_code='IN')\n",
        "\n",
        "# Check how many videos were pulled\n",
        "print(f\"Fetched {len(trending_data)} videos.\")\n"
      ]
    },
    {
      "cell_type": "code",
      "execution_count": null,
      "metadata": {
        "colab": {
          "base_uri": "https://localhost:8080/"
        },
        "id": "DSiB1lZXpZI3",
        "outputId": "247aa6fe-156c-4791-919f-6c25dc3e7fed"
      },
      "outputs": [],
      "source": [
        "#first video's data\n",
        "import pprint\n",
        "pprint.pprint(trending_data[0])"
      ]
    },
    {
      "cell_type": "code",
      "execution_count": null,
      "metadata": {
        "id": "-j_Owl1cpyDu"
      },
      "outputs": [],
      "source": [
        "# Transform function\n",
        "def transform_trending_data(raw_data):\n",
        "    videos = []\n",
        "\n",
        "    for video in raw_data:\n",
        "        snippet = video.get('snippet', {})\n",
        "        stats = video.get('statistics', {})\n",
        "\n",
        "        videos.append({\n",
        "            'video_id': video.get('id'),\n",
        "            'title': snippet.get('title'),\n",
        "            'channel_title': snippet.get('channelTitle'),\n",
        "            'published_at': snippet.get('publishedAt'),\n",
        "            'category_id': snippet.get('categoryId'),\n",
        "            'view_count': stats.get('viewCount'),\n",
        "            'like_count': stats.get('likeCount'),\n",
        "            'comment_count': stats.get('commentCount'),\n",
        "        })\n",
        "\n",
        "    df = pd.DataFrame(videos)\n",
        "\n",
        "    # Convert numerical columns from strings to integers (if they exist)\n",
        "    for col in ['view_count', 'like_count', 'comment_count']:\n",
        "        df[col] = pd.to_numeric(df[col], errors='coerce')\n",
        "\n",
        "    return df"
      ]
    },
    {
      "cell_type": "code",
      "execution_count": null,
      "metadata": {
        "colab": {
          "base_uri": "https://localhost:8080/"
        },
        "id": "EJG2Lqn3p5n-",
        "outputId": "efefa10d-803e-49a4-9163-f7a920675b6b"
      },
      "outputs": [],
      "source": [
        "# Apply transform function\n",
        "df_trending = transform_trending_data(trending_data)\n",
        "df_trending.head()"
      ]
    },
    {
      "cell_type": "code",
      "execution_count": null,
      "metadata": {
        "colab": {
          "base_uri": "https://localhost:8080/",
          "height": 607
        },
        "id": "7CVVy_NoqLmA",
        "outputId": "9d6edbdf-8a14-4a7a-c93b-214ff889dd2a"
      },
      "outputs": [],
      "source": [
        "df_trending.info()\n",
        "df_trending.isnull().sum()"
      ]
    },
    {
      "cell_type": "code",
      "execution_count": null,
      "metadata": {
        "colab": {
          "base_uri": "https://localhost:8080/",
          "height": 206
        },
        "id": "_AxG86Yer8nj",
        "outputId": "c4e1c7d2-90fc-43e2-85a6-9d536923ee5c"
      },
      "outputs": [],
      "source": [
        "import sqlite3\n",
        "\n",
        "# Connect to SQLite DB \n",
        "conn = sqlite3.connect(\"youtube_trending.db\")\n",
        "\n",
        "# Save DataFrame to a table\n",
        "df_trending.to_sql(\"trending_videos\", conn, if_exists=\"replace\", index=False)\n",
        "pd.read_sql_query(\"SELECT * FROM trending_videos LIMIT 5\", conn)"
      ]
    },
    {
      "cell_type": "code",
      "execution_count": null,
      "metadata": {
        "colab": {
          "base_uri": "https://localhost:8080/",
          "height": 17
        },
        "id": "88CxOBYxsJYh",
        "outputId": "20f351d4-b514-4814-cff3-b50140809848"
      },
      "outputs": [],
      "source": [
        "files.download(\"youtube_trending.db\")"
      ]
    },
    {
      "cell_type": "code",
      "execution_count": null,
      "metadata": {
        "id": "FGblB5XHthXk"
      },
      "outputs": [],
      "source": [
        "conn = sqlite3.connect(\"youtube_trending.db\")\n",
        "df_trending = pd.read_sql_query(\"SELECT * FROM trending_videos\", conn)"
      ]
    },
    {
      "cell_type": "code",
      "execution_count": null,
      "metadata": {
        "colab": {
          "base_uri": "https://localhost:8080/",
          "height": 698
        },
        "id": "mY9FYgLWtnUP",
        "outputId": "076d4cf0-0fdd-4dca-b0be-d49aca0873fc"
      },
      "outputs": [],
      "source": [
        "# Visualize top 10 most viewed videos\n",
        "top_views = df_trending.sort_values(by='view_count', ascending=False).head(10)\n",
        "\n",
        "import seaborn as sns\n",
        "import matplotlib.pyplot as plt\n",
        "\n",
        "plt.figure(figsize=(10,6))\n",
        "sns.barplot(data=top_views, x='view_count', y='title', palette='viridis')\n",
        "plt.title('Top 10 Most Viewed Trending Videos in India')\n",
        "plt.xlabel('Views')\n",
        "plt.ylabel('Video Title')\n",
        "plt.tight_layout()\n",
        "plt.show()"
      ]
    },
    {
      "cell_type": "code",
      "execution_count": null,
      "metadata": {
        "colab": {
          "base_uri": "https://localhost:8080/",
          "height": 698
        },
        "id": "OUSldTN8t6_x",
        "outputId": "de9609f2-cc65-4a91-cfa0-6418c9cda796"
      },
      "outputs": [],
      "source": [
        "# Visualize top 10 most liked videos\n",
        "top_likes = df_trending.sort_values(by='like_count', ascending=False).head(10)\n",
        "\n",
        "plt.figure(figsize=(10,6))\n",
        "sns.barplot(data=top_likes, x='like_count', y='title', palette='magma')\n",
        "plt.title('Top 10 Most Liked Trending Videos in India')\n",
        "plt.xlabel('Likes')\n",
        "plt.ylabel('Video Title')\n",
        "plt.tight_layout()\n",
        "plt.show()"
      ]
    },
    {
      "cell_type": "code",
      "execution_count": null,
      "metadata": {
        "colab": {
          "base_uri": "https://localhost:8080/",
          "height": 698
        },
        "id": "n9G6rAFDuCyq",
        "outputId": "766ff501-3529-41c3-f688-410a166ecb80"
      },
      "outputs": [],
      "source": [
        "# Visualize top channels by numbers of trending videos\n",
        "top_channels = df_trending['channel_title'].value_counts().head(10)\n",
        "\n",
        "plt.figure(figsize=(10,6))\n",
        "sns.barplot(x=top_channels.values, y=top_channels.index, palette='coolwarm')\n",
        "plt.title('Channels with Most Videos on Trending List')\n",
        "plt.xlabel('Number of Videos')\n",
        "plt.ylabel('Channel Name')\n",
        "plt.tight_layout()\n",
        "plt.show()"
      ]
    }
  ],
  "metadata": {
    "colab": {
      "provenance": []
    },
    "kernelspec": {
      "display_name": "Python 3",
      "name": "python3"
    },
    "language_info": {
      "name": "python"
    }
  },
  "nbformat": 4,
  "nbformat_minor": 0
}
